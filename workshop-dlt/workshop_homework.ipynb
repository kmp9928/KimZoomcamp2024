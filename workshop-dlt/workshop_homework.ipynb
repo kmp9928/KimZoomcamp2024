{
 "cells": [
  {
   "cell_type": "code",
   "execution_count": 11,
   "id": "27b7908d-d4dd-4354-8a99-77e47866df3f",
   "metadata": {},
   "outputs": [
    {
     "name": "stdout",
     "output_type": "stream",
     "text": [
      "1.0\n",
      "1.4142135623730951\n",
      "1.7320508075688772\n",
      "2.0\n",
      "2.23606797749979\n",
      "sum of the outputs of the generator for limit 5: 8.382332347441762\n"
     ]
    }
   ],
   "source": [
    "# Q1\n",
    "def square_root_generator(limit):\n",
    "    n = 1\n",
    "    while n <= limit:\n",
    "        yield n ** 0.5\n",
    "        n += 1\n",
    "\n",
    "# Example usage:\n",
    "limit = 5\n",
    "generator = square_root_generator(limit)\n",
    "\n",
    "sum = 0\n",
    "for sqrt_value in generator:\n",
    "    print(sqrt_value)\n",
    "    sum += sqrt_value\n",
    "\n",
    "print(f'sum of the outputs of the generator for limit 5: {sum}')"
   ]
  },
  {
   "cell_type": "code",
   "execution_count": 12,
   "id": "46c0eef9-620f-4579-8a22-8aeb0b37307b",
   "metadata": {},
   "outputs": [
    {
     "name": "stdout",
     "output_type": "stream",
     "text": [
      "1.0\n",
      "1.4142135623730951\n",
      "1.7320508075688772\n",
      "2.0\n",
      "2.23606797749979\n",
      "2.449489742783178\n",
      "2.6457513110645907\n",
      "2.8284271247461903\n",
      "3.0\n",
      "3.1622776601683795\n",
      "3.3166247903554\n",
      "3.4641016151377544\n",
      "3.605551275463989\n"
     ]
    }
   ],
   "source": [
    "# Q2\n",
    "def square_root_generator(limit):\n",
    "    n = 1\n",
    "    while n <= limit:\n",
    "        yield n ** 0.5\n",
    "        n += 1\n",
    "\n",
    "# Example usage:\n",
    "limit = 13\n",
    "generator = square_root_generator(limit)\n",
    "\n",
    "for sqrt_value in generator:\n",
    "    print(sqrt_value)"
   ]
  },
  {
   "cell_type": "code",
   "execution_count": 9,
   "id": "2eb5f2a7-1223-408a-945d-9ff152ab75f6",
   "metadata": {},
   "outputs": [],
   "source": [
    "%%capture\n",
    "!pip install dlt[duckdb]"
   ]
  },
  {
   "cell_type": "code",
   "execution_count": 10,
   "id": "ff731e55-a846-414d-ac72-16b04a8a9302",
   "metadata": {},
   "outputs": [
    {
     "name": "stdout",
     "output_type": "stream",
     "text": [
      "{'ID': 1, 'Name': 'Person_1', 'Age': 26, 'City': 'City_A'}\n",
      "{'ID': 2, 'Name': 'Person_2', 'Age': 27, 'City': 'City_A'}\n",
      "{'ID': 3, 'Name': 'Person_3', 'Age': 28, 'City': 'City_A'}\n",
      "{'ID': 4, 'Name': 'Person_4', 'Age': 29, 'City': 'City_A'}\n",
      "{'ID': 5, 'Name': 'Person_5', 'Age': 30, 'City': 'City_A'}\n"
     ]
    }
   ],
   "source": [
    "# Q3\n",
    "def people_1():\n",
    "    for i in range(1, 6):\n",
    "        yield {\"ID\": i, \"Name\": f\"Person_{i}\", \"Age\": 25 + i, \"City\": \"City_A\"}\n",
    "\n",
    "for person in people_1():\n",
    "    print(person)"
   ]
  },
  {
   "cell_type": "code",
   "execution_count": 11,
   "id": "c2d80266-1822-45d2-a588-f5607a72c176",
   "metadata": {},
   "outputs": [
    {
     "name": "stdout",
     "output_type": "stream",
     "text": [
      "Pipeline dlt_ipykernel_launcher load step completed in 0.59 seconds\n",
      "1 load package(s) were loaded to destination duckdb and into dataset generators_h\n",
      "The duckdb destination used duckdb:////workspaces/KimZoomcamp2024/2_docker_sql/dlt_ipykernel_launcher.duckdb location to store data\n",
      "Load package 1708018472.3329062 is LOADED and contains no failed jobs\n"
     ]
    }
   ],
   "source": [
    "import dlt\n",
    "\n",
    "generators_pipeline = dlt.pipeline(destination='duckdb', dataset_name='generators_h')\n",
    "\n",
    "info = generators_pipeline.run(people_1(),\n",
    "                               table_name=\"workshop_homework\",\n",
    "                               write_disposition=\"replace\")\n",
    "\n",
    "print(info)"
   ]
  },
  {
   "cell_type": "code",
   "execution_count": 12,
   "id": "01fc8a09-10e9-4e7e-9d76-86110f263e55",
   "metadata": {},
   "outputs": [
    {
     "name": "stdout",
     "output_type": "stream",
     "text": [
      "\n",
      "\n",
      "\n",
      " workshop_homework table below:\n"
     ]
    },
    {
     "data": {
      "text/html": [
       "<div>\n",
       "<style scoped>\n",
       "    .dataframe tbody tr th:only-of-type {\n",
       "        vertical-align: middle;\n",
       "    }\n",
       "\n",
       "    .dataframe tbody tr th {\n",
       "        vertical-align: top;\n",
       "    }\n",
       "\n",
       "    .dataframe thead th {\n",
       "        text-align: right;\n",
       "    }\n",
       "</style>\n",
       "<table border=\"1\" class=\"dataframe\">\n",
       "  <thead>\n",
       "    <tr style=\"text-align: right;\">\n",
       "      <th></th>\n",
       "      <th>id</th>\n",
       "      <th>name</th>\n",
       "      <th>age</th>\n",
       "      <th>city</th>\n",
       "      <th>_dlt_load_id</th>\n",
       "      <th>_dlt_id</th>\n",
       "    </tr>\n",
       "  </thead>\n",
       "  <tbody>\n",
       "    <tr>\n",
       "      <th>0</th>\n",
       "      <td>1</td>\n",
       "      <td>Person_1</td>\n",
       "      <td>26</td>\n",
       "      <td>City_A</td>\n",
       "      <td>1708018472.3329062</td>\n",
       "      <td>vn4mTuYNRL01lA</td>\n",
       "    </tr>\n",
       "    <tr>\n",
       "      <th>1</th>\n",
       "      <td>2</td>\n",
       "      <td>Person_2</td>\n",
       "      <td>27</td>\n",
       "      <td>City_A</td>\n",
       "      <td>1708018472.3329062</td>\n",
       "      <td>rHZXy233uLp3Iw</td>\n",
       "    </tr>\n",
       "    <tr>\n",
       "      <th>2</th>\n",
       "      <td>3</td>\n",
       "      <td>Person_3</td>\n",
       "      <td>28</td>\n",
       "      <td>City_A</td>\n",
       "      <td>1708018472.3329062</td>\n",
       "      <td>WKwi5whwYo3PJA</td>\n",
       "    </tr>\n",
       "    <tr>\n",
       "      <th>3</th>\n",
       "      <td>4</td>\n",
       "      <td>Person_4</td>\n",
       "      <td>29</td>\n",
       "      <td>City_A</td>\n",
       "      <td>1708018472.3329062</td>\n",
       "      <td>+BgVBCMvpbsolA</td>\n",
       "    </tr>\n",
       "    <tr>\n",
       "      <th>4</th>\n",
       "      <td>5</td>\n",
       "      <td>Person_5</td>\n",
       "      <td>30</td>\n",
       "      <td>City_A</td>\n",
       "      <td>1708018472.3329062</td>\n",
       "      <td>lE3chXYRJdH46A</td>\n",
       "    </tr>\n",
       "  </tbody>\n",
       "</table>\n",
       "</div>"
      ],
      "text/plain": [
       "   id      name  age    city        _dlt_load_id         _dlt_id\n",
       "0   1  Person_1   26  City_A  1708018472.3329062  vn4mTuYNRL01lA\n",
       "1   2  Person_2   27  City_A  1708018472.3329062  rHZXy233uLp3Iw\n",
       "2   3  Person_3   28  City_A  1708018472.3329062  WKwi5whwYo3PJA\n",
       "3   4  Person_4   29  City_A  1708018472.3329062  +BgVBCMvpbsolA\n",
       "4   5  Person_5   30  City_A  1708018472.3329062  lE3chXYRJdH46A"
      ]
     },
     "metadata": {},
     "output_type": "display_data"
    }
   ],
   "source": [
    "import duckdb\n",
    "\n",
    "conn = duckdb.connect(f\"{generators_pipeline.pipeline_name}.duckdb\")\n",
    "\n",
    "conn.sql(f\"SET search_path = '{generators_pipeline.dataset_name}'\")\n",
    "print(\"\\n\\n\\n workshop_homework table below:\")\n",
    "\n",
    "people_table = conn.sql(\"SELECT * FROM workshop_homework\").df()\n",
    "display(people_table)"
   ]
  },
  {
   "cell_type": "code",
   "execution_count": 13,
   "id": "062500b2-79a2-477a-a65f-e1e615763d4b",
   "metadata": {},
   "outputs": [
    {
     "data": {
      "text/html": [
       "<div>\n",
       "<style scoped>\n",
       "    .dataframe tbody tr th:only-of-type {\n",
       "        vertical-align: middle;\n",
       "    }\n",
       "\n",
       "    .dataframe tbody tr th {\n",
       "        vertical-align: top;\n",
       "    }\n",
       "\n",
       "    .dataframe thead th {\n",
       "        text-align: right;\n",
       "    }\n",
       "</style>\n",
       "<table border=\"1\" class=\"dataframe\">\n",
       "  <thead>\n",
       "    <tr style=\"text-align: right;\">\n",
       "      <th></th>\n",
       "      <th>sum(age)</th>\n",
       "    </tr>\n",
       "  </thead>\n",
       "  <tbody>\n",
       "    <tr>\n",
       "      <th>0</th>\n",
       "      <td>140.0</td>\n",
       "    </tr>\n",
       "  </tbody>\n",
       "</table>\n",
       "</div>"
      ],
      "text/plain": [
       "   sum(age)\n",
       "0     140.0"
      ]
     },
     "metadata": {},
     "output_type": "display_data"
    }
   ],
   "source": [
    "age_sum = conn.sql(\"SELECT SUM(age) FROM workshop_homework\").df()\n",
    "display(age_sum)"
   ]
  },
  {
   "cell_type": "code",
   "execution_count": 14,
   "id": "b72ad6a9-f468-4078-9557-d584eccfa4e0",
   "metadata": {},
   "outputs": [
    {
     "name": "stdout",
     "output_type": "stream",
     "text": [
      "{'ID': 3, 'Name': 'Person_3', 'Age': 33, 'City': 'City_B', 'Occupation': 'Job_3'}\n",
      "{'ID': 4, 'Name': 'Person_4', 'Age': 34, 'City': 'City_B', 'Occupation': 'Job_4'}\n",
      "{'ID': 5, 'Name': 'Person_5', 'Age': 35, 'City': 'City_B', 'Occupation': 'Job_5'}\n",
      "{'ID': 6, 'Name': 'Person_6', 'Age': 36, 'City': 'City_B', 'Occupation': 'Job_6'}\n",
      "{'ID': 7, 'Name': 'Person_7', 'Age': 37, 'City': 'City_B', 'Occupation': 'Job_7'}\n",
      "{'ID': 8, 'Name': 'Person_8', 'Age': 38, 'City': 'City_B', 'Occupation': 'Job_8'}\n"
     ]
    }
   ],
   "source": [
    "def people_2():\n",
    "    for i in range(3, 9):\n",
    "        yield {\"ID\": i, \"Name\": f\"Person_{i}\", \"Age\": 30 + i, \"City\": \"City_B\", \"Occupation\": f\"Job_{i}\"}\n",
    "\n",
    "\n",
    "for person in people_2():\n",
    "    print(person)"
   ]
  },
  {
   "cell_type": "code",
   "execution_count": 15,
   "id": "0b9d3c8b-7f9e-4464-858b-4526d7bd0f7a",
   "metadata": {},
   "outputs": [
    {
     "name": "stdout",
     "output_type": "stream",
     "text": [
      "Pipeline dlt_ipykernel_launcher load step completed in 0.26 seconds\n",
      "1 load package(s) were loaded to destination duckdb and into dataset generators_h\n",
      "The duckdb destination used duckdb:////workspaces/KimZoomcamp2024/2_docker_sql/dlt_ipykernel_launcher.duckdb location to store data\n",
      "Load package 1708018796.342256 is LOADED and contains no failed jobs\n"
     ]
    }
   ],
   "source": [
    "import dlt\n",
    "\n",
    "generators_pipeline = dlt.pipeline(destination='duckdb', dataset_name='generators_h')\n",
    "\n",
    "info = generators_pipeline.run(people_2(),\n",
    "                               table_name=\"workshop_homework\",\n",
    "                               write_disposition=\"append\")\n",
    "\n",
    "print(info)"
   ]
  },
  {
   "cell_type": "code",
   "execution_count": 16,
   "id": "4a79c9c1-fdf0-49e5-8042-9fcae55657fb",
   "metadata": {},
   "outputs": [
    {
     "name": "stdout",
     "output_type": "stream",
     "text": [
      "\n",
      "\n",
      "\n",
      " workshop_homework table below:\n"
     ]
    },
    {
     "data": {
      "text/html": [
       "<div>\n",
       "<style scoped>\n",
       "    .dataframe tbody tr th:only-of-type {\n",
       "        vertical-align: middle;\n",
       "    }\n",
       "\n",
       "    .dataframe tbody tr th {\n",
       "        vertical-align: top;\n",
       "    }\n",
       "\n",
       "    .dataframe thead th {\n",
       "        text-align: right;\n",
       "    }\n",
       "</style>\n",
       "<table border=\"1\" class=\"dataframe\">\n",
       "  <thead>\n",
       "    <tr style=\"text-align: right;\">\n",
       "      <th></th>\n",
       "      <th>id</th>\n",
       "      <th>name</th>\n",
       "      <th>age</th>\n",
       "      <th>city</th>\n",
       "      <th>_dlt_load_id</th>\n",
       "      <th>_dlt_id</th>\n",
       "      <th>occupation</th>\n",
       "    </tr>\n",
       "  </thead>\n",
       "  <tbody>\n",
       "    <tr>\n",
       "      <th>0</th>\n",
       "      <td>1</td>\n",
       "      <td>Person_1</td>\n",
       "      <td>26</td>\n",
       "      <td>City_A</td>\n",
       "      <td>1708018472.3329062</td>\n",
       "      <td>vn4mTuYNRL01lA</td>\n",
       "      <td>None</td>\n",
       "    </tr>\n",
       "    <tr>\n",
       "      <th>1</th>\n",
       "      <td>2</td>\n",
       "      <td>Person_2</td>\n",
       "      <td>27</td>\n",
       "      <td>City_A</td>\n",
       "      <td>1708018472.3329062</td>\n",
       "      <td>rHZXy233uLp3Iw</td>\n",
       "      <td>None</td>\n",
       "    </tr>\n",
       "    <tr>\n",
       "      <th>2</th>\n",
       "      <td>3</td>\n",
       "      <td>Person_3</td>\n",
       "      <td>28</td>\n",
       "      <td>City_A</td>\n",
       "      <td>1708018472.3329062</td>\n",
       "      <td>WKwi5whwYo3PJA</td>\n",
       "      <td>None</td>\n",
       "    </tr>\n",
       "    <tr>\n",
       "      <th>3</th>\n",
       "      <td>4</td>\n",
       "      <td>Person_4</td>\n",
       "      <td>29</td>\n",
       "      <td>City_A</td>\n",
       "      <td>1708018472.3329062</td>\n",
       "      <td>+BgVBCMvpbsolA</td>\n",
       "      <td>None</td>\n",
       "    </tr>\n",
       "    <tr>\n",
       "      <th>4</th>\n",
       "      <td>5</td>\n",
       "      <td>Person_5</td>\n",
       "      <td>30</td>\n",
       "      <td>City_A</td>\n",
       "      <td>1708018472.3329062</td>\n",
       "      <td>lE3chXYRJdH46A</td>\n",
       "      <td>None</td>\n",
       "    </tr>\n",
       "    <tr>\n",
       "      <th>5</th>\n",
       "      <td>3</td>\n",
       "      <td>Person_3</td>\n",
       "      <td>33</td>\n",
       "      <td>City_B</td>\n",
       "      <td>1708018796.342256</td>\n",
       "      <td>9einWkQ6iwvD1Q</td>\n",
       "      <td>Job_3</td>\n",
       "    </tr>\n",
       "    <tr>\n",
       "      <th>6</th>\n",
       "      <td>4</td>\n",
       "      <td>Person_4</td>\n",
       "      <td>34</td>\n",
       "      <td>City_B</td>\n",
       "      <td>1708018796.342256</td>\n",
       "      <td>wUlU5KmmuT1Xkw</td>\n",
       "      <td>Job_4</td>\n",
       "    </tr>\n",
       "    <tr>\n",
       "      <th>7</th>\n",
       "      <td>5</td>\n",
       "      <td>Person_5</td>\n",
       "      <td>35</td>\n",
       "      <td>City_B</td>\n",
       "      <td>1708018796.342256</td>\n",
       "      <td>n4sf7qjbPrKYdA</td>\n",
       "      <td>Job_5</td>\n",
       "    </tr>\n",
       "    <tr>\n",
       "      <th>8</th>\n",
       "      <td>6</td>\n",
       "      <td>Person_6</td>\n",
       "      <td>36</td>\n",
       "      <td>City_B</td>\n",
       "      <td>1708018796.342256</td>\n",
       "      <td>hhXep8TrkWs3Qg</td>\n",
       "      <td>Job_6</td>\n",
       "    </tr>\n",
       "    <tr>\n",
       "      <th>9</th>\n",
       "      <td>7</td>\n",
       "      <td>Person_7</td>\n",
       "      <td>37</td>\n",
       "      <td>City_B</td>\n",
       "      <td>1708018796.342256</td>\n",
       "      <td>2KYQa1WozWpN8Q</td>\n",
       "      <td>Job_7</td>\n",
       "    </tr>\n",
       "    <tr>\n",
       "      <th>10</th>\n",
       "      <td>8</td>\n",
       "      <td>Person_8</td>\n",
       "      <td>38</td>\n",
       "      <td>City_B</td>\n",
       "      <td>1708018796.342256</td>\n",
       "      <td>cncKFlkpp533CQ</td>\n",
       "      <td>Job_8</td>\n",
       "    </tr>\n",
       "  </tbody>\n",
       "</table>\n",
       "</div>"
      ],
      "text/plain": [
       "    id      name  age    city        _dlt_load_id         _dlt_id occupation\n",
       "0    1  Person_1   26  City_A  1708018472.3329062  vn4mTuYNRL01lA       None\n",
       "1    2  Person_2   27  City_A  1708018472.3329062  rHZXy233uLp3Iw       None\n",
       "2    3  Person_3   28  City_A  1708018472.3329062  WKwi5whwYo3PJA       None\n",
       "3    4  Person_4   29  City_A  1708018472.3329062  +BgVBCMvpbsolA       None\n",
       "4    5  Person_5   30  City_A  1708018472.3329062  lE3chXYRJdH46A       None\n",
       "5    3  Person_3   33  City_B   1708018796.342256  9einWkQ6iwvD1Q      Job_3\n",
       "6    4  Person_4   34  City_B   1708018796.342256  wUlU5KmmuT1Xkw      Job_4\n",
       "7    5  Person_5   35  City_B   1708018796.342256  n4sf7qjbPrKYdA      Job_5\n",
       "8    6  Person_6   36  City_B   1708018796.342256  hhXep8TrkWs3Qg      Job_6\n",
       "9    7  Person_7   37  City_B   1708018796.342256  2KYQa1WozWpN8Q      Job_7\n",
       "10   8  Person_8   38  City_B   1708018796.342256  cncKFlkpp533CQ      Job_8"
      ]
     },
     "metadata": {},
     "output_type": "display_data"
    }
   ],
   "source": [
    "import duckdb\n",
    "\n",
    "conn = duckdb.connect(f\"{generators_pipeline.pipeline_name}.duckdb\")\n",
    "\n",
    "conn.sql(f\"SET search_path = '{generators_pipeline.dataset_name}'\")\n",
    "print(\"\\n\\n\\n workshop_homework table below:\")\n",
    "\n",
    "people_table = conn.sql(\"SELECT * FROM workshop_homework\").df()\n",
    "display(people_table)"
   ]
  },
  {
   "cell_type": "code",
   "execution_count": 17,
   "id": "22048171-4b9f-481b-91db-bdcc89c0c0f1",
   "metadata": {},
   "outputs": [
    {
     "data": {
      "text/html": [
       "<div>\n",
       "<style scoped>\n",
       "    .dataframe tbody tr th:only-of-type {\n",
       "        vertical-align: middle;\n",
       "    }\n",
       "\n",
       "    .dataframe tbody tr th {\n",
       "        vertical-align: top;\n",
       "    }\n",
       "\n",
       "    .dataframe thead th {\n",
       "        text-align: right;\n",
       "    }\n",
       "</style>\n",
       "<table border=\"1\" class=\"dataframe\">\n",
       "  <thead>\n",
       "    <tr style=\"text-align: right;\">\n",
       "      <th></th>\n",
       "      <th>sum(age)</th>\n",
       "    </tr>\n",
       "  </thead>\n",
       "  <tbody>\n",
       "    <tr>\n",
       "      <th>0</th>\n",
       "      <td>353.0</td>\n",
       "    </tr>\n",
       "  </tbody>\n",
       "</table>\n",
       "</div>"
      ],
      "text/plain": [
       "   sum(age)\n",
       "0     353.0"
      ]
     },
     "metadata": {},
     "output_type": "display_data"
    }
   ],
   "source": [
    "age_sum_new = conn.sql(\"SELECT SUM(age) FROM workshop_homework\").df()\n",
    "display(age_sum_new)"
   ]
  },
  {
   "cell_type": "code",
   "execution_count": 18,
   "id": "1fee8674-2e86-4f9c-a61b-714040031a68",
   "metadata": {},
   "outputs": [
    {
     "name": "stdout",
     "output_type": "stream",
     "text": [
      "Pipeline dlt_ipykernel_launcher load step completed in 0.30 seconds\n",
      "1 load package(s) were loaded to destination duckdb and into dataset generators_h2\n",
      "The duckdb destination used duckdb:////workspaces/KimZoomcamp2024/2_docker_sql/dlt_ipykernel_launcher.duckdb location to store data\n",
      "Load package 1708019351.4935472 is LOADED and contains no failed jobs\n"
     ]
    }
   ],
   "source": [
    "# Q4\n",
    "generators_pipeline_2 = dlt.pipeline(destination='duckdb', dataset_name='generators_h2')\n",
    "\n",
    "info = generators_pipeline_2.run(people_1(),\n",
    "                               table_name=\"workshop_homework_2\",\n",
    "                               write_disposition=\"replace\",\n",
    "                               primary_key='id')\n",
    "\n",
    "print(info)"
   ]
  },
  {
   "cell_type": "code",
   "execution_count": 19,
   "id": "f7087852-4bc2-48dc-bc7d-812cfabb88af",
   "metadata": {},
   "outputs": [
    {
     "name": "stdout",
     "output_type": "stream",
     "text": [
      "\n",
      "\n",
      "\n",
      " workshop_homework_2 table below:\n"
     ]
    },
    {
     "data": {
      "text/html": [
       "<div>\n",
       "<style scoped>\n",
       "    .dataframe tbody tr th:only-of-type {\n",
       "        vertical-align: middle;\n",
       "    }\n",
       "\n",
       "    .dataframe tbody tr th {\n",
       "        vertical-align: top;\n",
       "    }\n",
       "\n",
       "    .dataframe thead th {\n",
       "        text-align: right;\n",
       "    }\n",
       "</style>\n",
       "<table border=\"1\" class=\"dataframe\">\n",
       "  <thead>\n",
       "    <tr style=\"text-align: right;\">\n",
       "      <th></th>\n",
       "      <th>id</th>\n",
       "      <th>name</th>\n",
       "      <th>age</th>\n",
       "      <th>city</th>\n",
       "      <th>_dlt_load_id</th>\n",
       "      <th>_dlt_id</th>\n",
       "    </tr>\n",
       "  </thead>\n",
       "  <tbody>\n",
       "    <tr>\n",
       "      <th>0</th>\n",
       "      <td>1</td>\n",
       "      <td>Person_1</td>\n",
       "      <td>26</td>\n",
       "      <td>City_A</td>\n",
       "      <td>1708019351.4935472</td>\n",
       "      <td>WlV+l071X8BaxA</td>\n",
       "    </tr>\n",
       "    <tr>\n",
       "      <th>1</th>\n",
       "      <td>2</td>\n",
       "      <td>Person_2</td>\n",
       "      <td>27</td>\n",
       "      <td>City_A</td>\n",
       "      <td>1708019351.4935472</td>\n",
       "      <td>aRdNOCUP0xKAfw</td>\n",
       "    </tr>\n",
       "    <tr>\n",
       "      <th>2</th>\n",
       "      <td>3</td>\n",
       "      <td>Person_3</td>\n",
       "      <td>28</td>\n",
       "      <td>City_A</td>\n",
       "      <td>1708019351.4935472</td>\n",
       "      <td>ia15EmgFIn8sFQ</td>\n",
       "    </tr>\n",
       "    <tr>\n",
       "      <th>3</th>\n",
       "      <td>4</td>\n",
       "      <td>Person_4</td>\n",
       "      <td>29</td>\n",
       "      <td>City_A</td>\n",
       "      <td>1708019351.4935472</td>\n",
       "      <td>iL0yAiwjnrJXvw</td>\n",
       "    </tr>\n",
       "    <tr>\n",
       "      <th>4</th>\n",
       "      <td>5</td>\n",
       "      <td>Person_5</td>\n",
       "      <td>30</td>\n",
       "      <td>City_A</td>\n",
       "      <td>1708019351.4935472</td>\n",
       "      <td>xe7PpMZVkwGFKQ</td>\n",
       "    </tr>\n",
       "  </tbody>\n",
       "</table>\n",
       "</div>"
      ],
      "text/plain": [
       "   id      name  age    city        _dlt_load_id         _dlt_id\n",
       "0   1  Person_1   26  City_A  1708019351.4935472  WlV+l071X8BaxA\n",
       "1   2  Person_2   27  City_A  1708019351.4935472  aRdNOCUP0xKAfw\n",
       "2   3  Person_3   28  City_A  1708019351.4935472  ia15EmgFIn8sFQ\n",
       "3   4  Person_4   29  City_A  1708019351.4935472  iL0yAiwjnrJXvw\n",
       "4   5  Person_5   30  City_A  1708019351.4935472  xe7PpMZVkwGFKQ"
      ]
     },
     "metadata": {},
     "output_type": "display_data"
    }
   ],
   "source": [
    "conn = duckdb.connect(f\"{generators_pipeline_2.pipeline_name}.duckdb\")\n",
    "\n",
    "conn.sql(f\"SET search_path = '{generators_pipeline_2.dataset_name}'\")\n",
    "print(\"\\n\\n\\n workshop_homework_2 table below:\")\n",
    "\n",
    "people_table = conn.sql(\"SELECT * FROM workshop_homework_2\").df()\n",
    "display(people_table)"
   ]
  },
  {
   "cell_type": "code",
   "execution_count": 20,
   "id": "5f22802e-8d60-4b38-9b8b-8e21a1bcc2ab",
   "metadata": {},
   "outputs": [
    {
     "name": "stdout",
     "output_type": "stream",
     "text": [
      "Pipeline dlt_ipykernel_launcher load step completed in 0.51 seconds\n",
      "1 load package(s) were loaded to destination duckdb and into dataset generators_h2\n",
      "The duckdb destination used duckdb:////workspaces/KimZoomcamp2024/2_docker_sql/dlt_ipykernel_launcher.duckdb location to store data\n",
      "Load package 1708019430.6280234 is LOADED and contains no failed jobs\n"
     ]
    }
   ],
   "source": [
    "generators_pipeline_2 = dlt.pipeline(destination='duckdb', dataset_name='generators_h2')\n",
    "\n",
    "info = generators_pipeline_2.run(people_2(),\n",
    "                               table_name=\"workshop_homework_2\",\n",
    "                               write_disposition=\"merge\",\n",
    "                               primary_key='id')\n",
    "\n",
    "print(info)"
   ]
  },
  {
   "cell_type": "code",
   "execution_count": 21,
   "id": "de0c36d0-667e-476e-97ec-1bc20a55d57c",
   "metadata": {},
   "outputs": [
    {
     "name": "stdout",
     "output_type": "stream",
     "text": [
      "\n",
      "\n",
      "\n",
      " workshop_homework_2 table below:\n"
     ]
    },
    {
     "data": {
      "text/html": [
       "<div>\n",
       "<style scoped>\n",
       "    .dataframe tbody tr th:only-of-type {\n",
       "        vertical-align: middle;\n",
       "    }\n",
       "\n",
       "    .dataframe tbody tr th {\n",
       "        vertical-align: top;\n",
       "    }\n",
       "\n",
       "    .dataframe thead th {\n",
       "        text-align: right;\n",
       "    }\n",
       "</style>\n",
       "<table border=\"1\" class=\"dataframe\">\n",
       "  <thead>\n",
       "    <tr style=\"text-align: right;\">\n",
       "      <th></th>\n",
       "      <th>id</th>\n",
       "      <th>name</th>\n",
       "      <th>age</th>\n",
       "      <th>city</th>\n",
       "      <th>_dlt_load_id</th>\n",
       "      <th>_dlt_id</th>\n",
       "      <th>occupation</th>\n",
       "    </tr>\n",
       "  </thead>\n",
       "  <tbody>\n",
       "    <tr>\n",
       "      <th>0</th>\n",
       "      <td>1</td>\n",
       "      <td>Person_1</td>\n",
       "      <td>26</td>\n",
       "      <td>City_A</td>\n",
       "      <td>1708019351.4935472</td>\n",
       "      <td>WlV+l071X8BaxA</td>\n",
       "      <td>None</td>\n",
       "    </tr>\n",
       "    <tr>\n",
       "      <th>1</th>\n",
       "      <td>2</td>\n",
       "      <td>Person_2</td>\n",
       "      <td>27</td>\n",
       "      <td>City_A</td>\n",
       "      <td>1708019351.4935472</td>\n",
       "      <td>aRdNOCUP0xKAfw</td>\n",
       "      <td>None</td>\n",
       "    </tr>\n",
       "    <tr>\n",
       "      <th>2</th>\n",
       "      <td>8</td>\n",
       "      <td>Person_8</td>\n",
       "      <td>38</td>\n",
       "      <td>City_B</td>\n",
       "      <td>1708019430.6280234</td>\n",
       "      <td>IZppXZvH9f6lnw</td>\n",
       "      <td>Job_8</td>\n",
       "    </tr>\n",
       "    <tr>\n",
       "      <th>3</th>\n",
       "      <td>4</td>\n",
       "      <td>Person_4</td>\n",
       "      <td>34</td>\n",
       "      <td>City_B</td>\n",
       "      <td>1708019430.6280234</td>\n",
       "      <td>4XzOlMH29HPc1Q</td>\n",
       "      <td>Job_4</td>\n",
       "    </tr>\n",
       "    <tr>\n",
       "      <th>4</th>\n",
       "      <td>5</td>\n",
       "      <td>Person_5</td>\n",
       "      <td>35</td>\n",
       "      <td>City_B</td>\n",
       "      <td>1708019430.6280234</td>\n",
       "      <td>hleU8IyMF+FjMA</td>\n",
       "      <td>Job_5</td>\n",
       "    </tr>\n",
       "    <tr>\n",
       "      <th>5</th>\n",
       "      <td>7</td>\n",
       "      <td>Person_7</td>\n",
       "      <td>37</td>\n",
       "      <td>City_B</td>\n",
       "      <td>1708019430.6280234</td>\n",
       "      <td>avRZ+E0Rrap0wA</td>\n",
       "      <td>Job_7</td>\n",
       "    </tr>\n",
       "    <tr>\n",
       "      <th>6</th>\n",
       "      <td>3</td>\n",
       "      <td>Person_3</td>\n",
       "      <td>33</td>\n",
       "      <td>City_B</td>\n",
       "      <td>1708019430.6280234</td>\n",
       "      <td>/O22mjK12UbWDw</td>\n",
       "      <td>Job_3</td>\n",
       "    </tr>\n",
       "    <tr>\n",
       "      <th>7</th>\n",
       "      <td>6</td>\n",
       "      <td>Person_6</td>\n",
       "      <td>36</td>\n",
       "      <td>City_B</td>\n",
       "      <td>1708019430.6280234</td>\n",
       "      <td>A1E9eFywDjNbWw</td>\n",
       "      <td>Job_6</td>\n",
       "    </tr>\n",
       "  </tbody>\n",
       "</table>\n",
       "</div>"
      ],
      "text/plain": [
       "   id      name  age    city        _dlt_load_id         _dlt_id occupation\n",
       "0   1  Person_1   26  City_A  1708019351.4935472  WlV+l071X8BaxA       None\n",
       "1   2  Person_2   27  City_A  1708019351.4935472  aRdNOCUP0xKAfw       None\n",
       "2   8  Person_8   38  City_B  1708019430.6280234  IZppXZvH9f6lnw      Job_8\n",
       "3   4  Person_4   34  City_B  1708019430.6280234  4XzOlMH29HPc1Q      Job_4\n",
       "4   5  Person_5   35  City_B  1708019430.6280234  hleU8IyMF+FjMA      Job_5\n",
       "5   7  Person_7   37  City_B  1708019430.6280234  avRZ+E0Rrap0wA      Job_7\n",
       "6   3  Person_3   33  City_B  1708019430.6280234  /O22mjK12UbWDw      Job_3\n",
       "7   6  Person_6   36  City_B  1708019430.6280234  A1E9eFywDjNbWw      Job_6"
      ]
     },
     "metadata": {},
     "output_type": "display_data"
    }
   ],
   "source": [
    "conn = duckdb.connect(f\"{generators_pipeline_2.pipeline_name}.duckdb\")\n",
    "\n",
    "conn.sql(f\"SET search_path = '{generators_pipeline_2.dataset_name}'\")\n",
    "print(\"\\n\\n\\n workshop_homework_2 table below:\")\n",
    "\n",
    "people_table = conn.sql(\"SELECT * FROM workshop_homework_2\").df()\n",
    "display(people_table)"
   ]
  },
  {
   "cell_type": "code",
   "execution_count": 23,
   "id": "42166eaf-8ea8-400c-b9eb-46d20cde5974",
   "metadata": {},
   "outputs": [
    {
     "data": {
      "text/html": [
       "<div>\n",
       "<style scoped>\n",
       "    .dataframe tbody tr th:only-of-type {\n",
       "        vertical-align: middle;\n",
       "    }\n",
       "\n",
       "    .dataframe tbody tr th {\n",
       "        vertical-align: top;\n",
       "    }\n",
       "\n",
       "    .dataframe thead th {\n",
       "        text-align: right;\n",
       "    }\n",
       "</style>\n",
       "<table border=\"1\" class=\"dataframe\">\n",
       "  <thead>\n",
       "    <tr style=\"text-align: right;\">\n",
       "      <th></th>\n",
       "      <th>sum(age)</th>\n",
       "    </tr>\n",
       "  </thead>\n",
       "  <tbody>\n",
       "    <tr>\n",
       "      <th>0</th>\n",
       "      <td>266.0</td>\n",
       "    </tr>\n",
       "  </tbody>\n",
       "</table>\n",
       "</div>"
      ],
      "text/plain": [
       "   sum(age)\n",
       "0     266.0"
      ]
     },
     "metadata": {},
     "output_type": "display_data"
    }
   ],
   "source": [
    "age_sum_2 = conn.sql(\"SELECT SUM(age) FROM workshop_homework_2\").df()\n",
    "display(age_sum_2)"
   ]
  },
  {
   "cell_type": "code",
   "execution_count": null,
   "id": "49f1fe46-69e0-43fe-bce1-0d5227af1e94",
   "metadata": {},
   "outputs": [],
   "source": []
  }
 ],
 "metadata": {
  "kernelspec": {
   "display_name": "Python 3 (ipykernel)",
   "language": "python",
   "name": "python3"
  },
  "language_info": {
   "codemirror_mode": {
    "name": "ipython",
    "version": 3
   },
   "file_extension": ".py",
   "mimetype": "text/x-python",
   "name": "python",
   "nbconvert_exporter": "python",
   "pygments_lexer": "ipython3",
   "version": "3.10.13"
  }
 },
 "nbformat": 4,
 "nbformat_minor": 5
}
